{
 "cells": [
  {
   "cell_type": "markdown",
   "metadata": {
    "id": "2xcKXdd3WR17"
   },
   "source": [
    "# **MÓDULO 26 - Projeto Final do Aprofundamento de Analytics**"
   ]
  },
  {
   "cell_type": "markdown",
   "metadata": {
    "id": "JawTVJK2W-9v"
   },
   "source": [
    "Bem-vindos ao Projeto de Dashboard de E-commerce! Este projeto é uma oportunidade para vocês aplicarem habilidades essenciais de análise de dados em um cenário prático e realista. Vocês irão trabalhar com um conjunto de dados de transações de clientes de uma loja virtual, distribuídos em duas tabelas distintas. O objetivo final é construir um dashboard interativo que facilite a visualização e análise das informações relevantes do e-commerce, utilizando ferramentas como Looker Studio ou Power BI."
   ]
  },
  {
   "cell_type": "markdown",
   "metadata": {
    "id": "6_UQwlRYXJnG"
   },
   "source": [
    "**Objetivo do Projeto:**\n",
    "\n",
    "Tratamento de Dados: Realizar a junção (JOIN) de duas tabelas utilizando SQL para consolidar as informações.\n",
    "Análise de Dados: Exportar os dados resultantes para um arquivo CSV.\n",
    "Visualização de Dados: Desenvolver um dashboard interativo e informativo para visualização das principais métricas e insights do e-commerce."
   ]
  },
  {
   "cell_type": "markdown",
   "metadata": {
    "id": "70syl2pLXQ28"
   },
   "source": [
    "**Tabelas Disponibilizadas:**\n",
    "\n",
    "**Tabela de Transações:** Contém os registros de transações realizadas pelos clientes, incluindo detalhes como ID da transação, valor e outros.\n",
    "\n",
    "\n",
    "**Tabela de Dados Pessoais:** Contém as informações pessoais dos clientes, como ID do cliente, nome, genero, cidade, etc.\n",
    "\n",
    "**Chave de Ligação:** As tabelas se relacionam através da coluna ID_CLIENT, que é a chave identificadora dos clientes."
   ]
  },
  {
   "cell_type": "markdown",
   "metadata": {
    "id": "xkLSMEBoXeYT"
   },
   "source": [
    "# Etapas do Projeto:\n",
    "\n",
    "1. Realizar um JOIN SQL nas duas tabelas, unificando as informações através da coluna ID_CLIENT. Você deve justificar a escolha do JOIN (Inner/ Left/ Right ou Full).\n",
    "\n",
    "2. Exportar os dados consolidados resultantes do JOIN para um arquivo CSV.\n",
    "\n",
    "3. Utilizar Looker Studio ou Power BI para importar o arquivo CSV.\n",
    "\n",
    "4. Criar visualizações interativas que apresentem métricas importantes, como total de vendas, número de transações, distribuição geográfica dos clientes, perfil demográfico dos clientes, entre outros."
   ]
  },
  {
   "cell_type": "markdown",
   "metadata": {
    "id": "lRVU4Dl_X0V4"
   },
   "source": [
    "Abaixo temos a configuração do ambiente SQL:"
   ]
  },
  {
   "cell_type": "code",
   "execution_count": 7,
   "metadata": {
    "id": "5_Mqh988V-Tf"
   },
   "outputs": [],
   "source": [
    "import sqlite3\n",
    "import pandas as pd"
   ]
  },
  {
   "cell_type": "code",
   "execution_count": 8,
   "metadata": {
    "id": "JNEitpAKYJfJ"
   },
   "outputs": [],
   "source": [
    "df_transacoes = pd.read_csv(\"TB_TRANSACOES_PROJETO_ECOMM-M26.csv\", delimiter=';')\n",
    "df_clientes = pd.read_csv(\"TB_CLIENTES_PROJETO_ECOMM-M26.csv\", delimiter=';')"
   ]
  },
  {
   "cell_type": "code",
   "execution_count": 9,
   "metadata": {
    "colab": {
     "base_uri": "https://localhost:8080/"
    },
    "id": "WnmPtyP6YReh",
    "outputId": "7d1bb95d-1026-417a-d93e-033b91c69be8"
   },
   "outputs": [
    {
     "data": {
      "text/plain": [
       "175"
      ]
     },
     "execution_count": 9,
     "metadata": {},
     "output_type": "execute_result"
    }
   ],
   "source": [
    "conn = sqlite3.connect('projeto.db')\n",
    "# Carregar o DataFrame no banco de dados SQLite - criando tb_transacoes e tb_clientes\n",
    "df_transacoes.to_sql('tb_transacoes', conn, index=False, if_exists='replace')\n",
    "df_clientes.to_sql('tb_clientes', conn, index=False, if_exists='replace')"
   ]
  },
  {
   "cell_type": "code",
   "execution_count": 10,
   "metadata": {
    "id": "pMOeIO95Yfm4"
   },
   "outputs": [],
   "source": [
    "# Função para executar consultas SQL e retornar o resultado como um DataFrame\n",
    "def run_query(query):\n",
    "    return pd.read_sql_query(query, conn)"
   ]
  },
  {
   "cell_type": "code",
   "execution_count": 11,
   "metadata": {
    "id": "lMSQyM6qaIEu"
   },
   "outputs": [
    {
     "name": "stdout",
     "output_type": "stream",
     "text": [
      "    state_name First_name   Gender                     Job_Title  Id_client  \\\n",
      "0           TX    Domingo     Male  Structural Analysis Engineer          1   \n",
      "1           MI    Russell     Male            Speech Pathologist          2   \n",
      "2           AL     Kimble     Male           Account Coordinator          3   \n",
      "3           IL   Barnabas     Male               General Manager          4   \n",
      "4           MN     Tanney   Female                  VP Marketing          5   \n",
      "..         ...        ...      ...                           ...        ...   \n",
      "291         UT  Fairleigh     Male    Desktop Support Technician        171   \n",
      "292         DC    Lambert  Agender             Chemical Engineer        172   \n",
      "293         NY      Jacob     Male      Senior Financial Analyst        173   \n",
      "294         OK        Pip     Male         Chief Design Engineer        174   \n",
      "295         OR     Murvyn   Female          Safety Technician IV        175   \n",
      "\n",
      "     id_client    Category   Price   Card Type  \n",
      "0            1    Outdoors   16,97  mastercard  \n",
      "1            2     Grocery  143,39  mastercard  \n",
      "2            3       Music   37,64  mastercard  \n",
      "3            4     Jewelry    8,51  mastercard  \n",
      "4            5     Grocery   28,42  mastercard  \n",
      "..         ...         ...     ...         ...  \n",
      "291        171       Books   35,85  mastercard  \n",
      "292        172  Automotive  130,08  mastercard  \n",
      "293        173        Kids   28,38  mastercard  \n",
      "294        174      Sports   36,35  mastercard  \n",
      "295        175        Kids  141,71  mastercard  \n",
      "\n",
      "[296 rows x 9 columns]\n"
     ]
    }
   ],
   "source": [
    "query = \"\"\"\n",
    "SELECT * FROM\n",
    "tb_clientes INNER JOIN tb_transacoes ON\n",
    "tb_clientes.Id_client = tb_transacoes.Id_client\n",
    "\"\"\"\n",
    "df = run_query(query)\n",
    "print(df)"
   ]
  },
  {
   "cell_type": "markdown",
   "metadata": {
    "id": "PfsVPMwQZlNe"
   },
   "source": [
    "Justifique a escolha do JOIN: R - Eu escolhi usar o INNER para trazer somente os dados cruzados nas duas tabelas pois na minha opinião não irá fazer sentido trazer os dados que não estão relacionados para a criação do dashboard, isso pode deixar o dashboard mais simples."
   ]
  },
  {
   "cell_type": "markdown",
   "metadata": {
    "id": "ca7R_MgCZ2eh"
   },
   "source": [
    "Exportando o arquivo como CSV:"
   ]
  },
  {
   "cell_type": "code",
   "execution_count": 14,
   "metadata": {
    "id": "06eFgBSpZ4Xh"
   },
   "outputs": [],
   "source": [
    "df.to_csv('dados_ecommerce_final.csv', index=False)"
   ]
  },
  {
   "cell_type": "markdown",
   "metadata": {
    "id": "yWnbq4nraMNv"
   },
   "source": [
    "**Dicas para o projeto:**\n",
    "- Se atente que, como o mesmo cliente realiza mais de 1 transação quando você for trazer alguma métrica relacionada a dados do cliente terá que utilizar o distinct para criar essas métricas no dashboard, se não acabará tendo os dados repetidos.\n",
    "\n",
    "- Análise sua tabela, entenda a dimensão dos dados, no excel, antes de enviar para o Powerbi ou Looker Studio.\n",
    "\n",
    "- Tente montar preveamente um roteiro de quais métricas e visualizações irá colocar no dashboard, isso tornará seu processo mais rápido.\n",
    "\n",
    "- Qualquer dificuldade para subir sua base para as ferramentas de visualização envie a base e o erro encontrado para que os tutores possam te ajudar."
   ]
  }
 ],
 "metadata": {
  "colab": {
   "provenance": []
  },
  "kernelspec": {
   "display_name": "Python 3 (ipykernel)",
   "language": "python",
   "name": "python3"
  },
  "language_info": {
   "codemirror_mode": {
    "name": "ipython",
    "version": 3
   },
   "file_extension": ".py",
   "mimetype": "text/x-python",
   "name": "python",
   "nbconvert_exporter": "python",
   "pygments_lexer": "ipython3",
   "version": "3.12.4"
  }
 },
 "nbformat": 4,
 "nbformat_minor": 4
}
